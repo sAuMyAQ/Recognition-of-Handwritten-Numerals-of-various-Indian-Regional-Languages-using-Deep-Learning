{
 "cells": [
  {
   "cell_type": "code",
   "execution_count": 1,
   "metadata": {},
   "outputs": [
    {
     "name": "stderr",
     "output_type": "stream",
     "text": [
      "Using TensorFlow backend.\n",
      "/Users/sachaura/anaconda3/lib/python3.6/site-packages/h5py/__init__.py:36: FutureWarning: Conversion of the second argument of issubdtype from `float` to `np.floating` is deprecated. In future, it will be treated as `np.float64 == np.dtype(float).type`.\n",
      "  from ._conv import register_converters as _register_converters\n",
      "/Users/sachaura/anaconda3/lib/python3.6/site-packages/sklearn/cross_validation.py:41: DeprecationWarning: This module was deprecated in version 0.18 in favor of the model_selection module into which all the refactored classes and functions are moved. Also note that the interface of the new CV iterators are different from that of this module. This module will be removed in 0.20.\n",
      "  \"This module will be removed in 0.20.\", DeprecationWarning)\n"
     ]
    }
   ],
   "source": [
    "from keras.models import Sequential\n",
    "from keras.layers.core import Dense, Dropout, Activation, Flatten\n",
    "from keras.layers.convolutional import Convolution2D, MaxPooling2D\n",
    "from keras.optimizers import SGD,RMSprop,adam\n",
    "from keras.utils import np_utils\n",
    "\n",
    "from keras import backend as K\n",
    "K.set_image_dim_ordering('th')\n",
    "\n",
    "import numpy as np\n",
    "import matplotlib.pyplot as plt\n",
    "import matplotlib\n",
    "import cv2\n",
    "import os\n",
    "# import theano\n",
    "from PIL import Image\n",
    "from numpy import *\n",
    "# SKLEARN\n",
    "from sklearn.utils import shuffle\n",
    "from sklearn.cross_validation import train_test_split"
   ]
  },
  {
   "cell_type": "code",
   "execution_count": 2,
   "metadata": {},
   "outputs": [],
   "source": [
    "# input image dimensions\n",
    "img_rows, img_cols = 28, 28\n",
    "\n",
    "# number of channels\n",
    "img_channels = 1"
   ]
  },
  {
   "cell_type": "code",
   "execution_count": 3,
   "metadata": {},
   "outputs": [],
   "source": [
    "path1 = '/home/saumya/Desktop/Telugu/telgu_dataset'    #path of folder of images\n",
    "data_path = '/Users/sachaura/Downloads/OriyaNumerals'    #path of folder of images\n",
    "\n",
    "# listing = os.listdir(path1) \n",
    "# num_samples=size(listing)\n",
    "# print (num_samples)\n",
    "#for file in listing:\n",
    "    #im = Image.open(path1 + '/' + file)  \n",
    "    #img = im.resize((img_rows,img_cols))\n",
    "    #gray = img.convert('L')\n",
    "                #need to do some more processing here          \n",
    "    #gray.save(path2 +'/' +  file, \"bmp\")\n",
    "\n",
    "imlist = os.listdir(data_path)\n",
    "data_dir_list = os.listdir(data_path)"
   ]
  },
  {
   "cell_type": "code",
   "execution_count": 4,
   "metadata": {},
   "outputs": [
    {
     "name": "stdout",
     "output_type": "stream",
     "text": [
      "/Users/sachaura/Downloads/OriyaNumerals\n",
      "Loaded the images of dataset-0\n",
      "\n",
      "Loaded the images of dataset-1\n",
      "\n",
      "Loaded the images of dataset-2\n",
      "\n",
      "Loaded the images of dataset-3\n",
      "\n",
      "Loaded the images of dataset-4\n",
      "\n",
      "Loaded the images of dataset-5\n",
      "\n",
      "Loaded the images of dataset-6\n",
      "\n",
      "Loaded the images of dataset-7\n",
      "\n",
      "Loaded the images of dataset-8\n",
      "\n",
      "Loaded the images of dataset-9\n",
      "\n",
      "(5770, 28, 28)\n",
      "(5770, 1, 28, 28)\n"
     ]
    }
   ],
   "source": [
    "num_channel=1\n",
    "num_epoch=1\n",
    "\n",
    "# Define the number of classes\n",
    "print(data_path)\n",
    "img_data_list=[]\n",
    "for dataset in data_dir_list:\n",
    "    if(dataset != \".DS_Store\"):\n",
    "        img_list=os.listdir(data_path+'/'+ dataset)\n",
    "        print ('Loaded the images of dataset-'+'{}\\n'.format(dataset))\n",
    "        for img in img_list:\n",
    "            input_img=cv2.imread(data_path + '/'+ dataset + '/'+ img )\n",
    "            if(img != \".DS_Store\"):\n",
    "#                 print(data_path + '/'+ dataset + '/'+ img)\n",
    "                input_img=cv2.cvtColor(input_img, cv2.COLOR_BGR2GRAY)\n",
    "                input_img_resize=cv2.resize(input_img,(28,28))\n",
    "                img_data_list.append(input_img_resize)\n",
    "\n",
    "\n",
    "# for dataset in data_dir_list:\n",
    "# # \timg_list=os.listdir(data_path+'/'+ dataset)\n",
    "# # \tprint ('Loaded the images of dataset-'+'{}\\n'.format(dataset))\n",
    "# # \tfor img in dir_list:\n",
    "# \tinput_img=cv2.imread(data_path + '/'+ dataset )\n",
    "# \tinput_img=cv2.cvtColor(input_img, cv2.COLOR_BGR2GRAY)\n",
    "# \tinput_img_resize=cv2.resize(input_img,(28,28))\n",
    "# \timg_data_list.append(input_img_resize)\n",
    "\n",
    "img_data = np.array(img_data_list)\n",
    "img_data = img_data.astype('float32')\n",
    "img_data /= 255\n",
    "print (img_data.shape)\n",
    "\n",
    "if num_channel==1:\n",
    "\tif K.image_dim_ordering()=='th':\n",
    "\t\timg_data= np.expand_dims(img_data, axis=1) \n",
    "\t\tprint (img_data.shape)\n",
    "\telse:\n",
    "\t\timg_data= np.expand_dims(img_data, axis=4) \n",
    "\t\tprint (img_data.shape)\n",
    "\t\t\n",
    "else:\n",
    "\tif K.image_dim_ordering()=='th':\n",
    "\t\timg_data=np.rollaxis(img_data,3,1)\n",
    "\t\tprint (img_data.shape)\n",
    "\t\t\n",
    "num_classes = 10\n",
    "\n",
    "num_of_samples = img_data.shape[0]\n",
    "label = np.ones((num_of_samples,),dtype='int64')"
   ]
  },
  {
   "cell_type": "code",
   "execution_count": 5,
   "metadata": {},
   "outputs": [
    {
     "name": "stdout",
     "output_type": "stream",
     "text": [
      "[[0. 1. 0. ... 0. 0. 0.]\n",
      " [1. 0. 0. ... 0. 0. 0.]\n",
      " [1. 0. 0. ... 0. 0. 0.]\n",
      " ...\n",
      " [0. 1. 0. ... 0. 0. 0.]\n",
      " [0. 1. 0. ... 0. 0. 0.]\n",
      " [0. 1. 0. ... 0. 0. 0.]]\n",
      "label :  [0. 1. 0. 0. 0. 0. 0. 0. 0. 0.]\n"
     ]
    },
    {
     "data": {
      "image/png": "[encoded data removed]",
      "text/plain": [
       "<matplotlib.figure.Figure at 0x1c2716b438>"
      ]
     },
     "metadata": {},
     "output_type": "display_data"
    }
   ],
   "source": [
    "# # create matrix to store all flattened images\n",
    "# immatrix = array([array(Image.open('/home/saumya/Desktop/Telugu/t' + '/'+  im2)).flatten()\n",
    "#               for im2 in imlist],'f')\n",
    "# #print(immatrix)\n",
    "# num_class=10\n",
    "               \n",
    "# label=np.ones((num_samples,),dtype = int)\n",
    "label[1:504]=0\n",
    "label[504:1004]=1\n",
    "label[1004:1501]=2\n",
    "label[1501:2000]=3\n",
    "label[2000:2499]=4\n",
    "label[2499:2990]=5\n",
    "label[2990:3491]=6\n",
    "label[3491:3990]=7\n",
    "label[3990:4489]=8\n",
    "label[4489:4980]=9\n",
    "\n",
    "names = ['0', '1', '2', '3', '4', '5', '6', '7', '8','9']\n",
    "# Y = np_utils.to_categorical(label, num_class)\n",
    "# data,Label = shuffle(immatrix,Y, random_state=2)\n",
    "# train_data = [data,Label]\n",
    "# np.savetxt('/home/saumya/Desktop/svm_input_data/ny_test.csv', Label, delimiter = ',') \n",
    "# img=immatrix[17].reshape(img_rows,img_cols)\n",
    "# plt.imshow(img)\n",
    "# plt.show()\n",
    "\n",
    "# convert class labels to on-hot encoding\n",
    "Y = np_utils.to_categorical(label, num_classes)\n",
    "print(Y)\n",
    "\n",
    "#Shuffle the dataset\n",
    "x,y = shuffle(img_data,Y, random_state=2)\n",
    "# Split the dataset\n",
    "X_train, X_test, y_train, y_test = train_test_split(x, y, test_size=0.2, random_state=2)\n",
    "\n",
    "i = 67\n",
    "plt.imshow(X_train[i, 0], interpolation='nearest', cmap = 'gray')\n",
    "print(\"label : \", y_train[i,:])\n",
    "\n",
    "\n",
    "input_shape=img_data[0].shape"
   ]
  },
  {
   "cell_type": "code",
   "execution_count": 6,
   "metadata": {},
   "outputs": [
    {
     "name": "stderr",
     "output_type": "stream",
     "text": [
      "/Users/sachaura/anaconda3/lib/python3.6/site-packages/ipykernel_launcher.py:3: UserWarning: Update your `Conv2D` call to the Keras 2 API: `Conv2D(32, (3, 3), input_shape=(1, 28, 28..., padding=\"same\")`\n",
      "  This is separate from the ipykernel package so we can avoid doing imports until\n",
      "/Users/sachaura/anaconda3/lib/python3.6/site-packages/ipykernel_launcher.py:5: UserWarning: Update your `Conv2D` call to the Keras 2 API: `Conv2D(32, (3, 3))`\n",
      "  \"\"\"\n",
      "/Users/sachaura/anaconda3/lib/python3.6/site-packages/ipykernel_launcher.py:10: UserWarning: Update your `Conv2D` call to the Keras 2 API: `Conv2D(32, (3, 3))`\n",
      "  # Remove the CWD from sys.path while we load stuff.\n"
     ]
    }
   ],
   "source": [
    "model = Sequential()\n",
    "\n",
    "model.add(Convolution2D(32, 3,3,border_mode='same',input_shape=input_shape))\n",
    "model.add(Activation('relu'))\n",
    "model.add(Convolution2D(32, 3, 3))\n",
    "model.add(Activation('relu'))\n",
    "model.add(MaxPooling2D(pool_size=(2, 2)))\n",
    "model.add(Dropout(0.2))\n",
    "\n",
    "model.add(Convolution2D(32, 3, 3))\n",
    "model.add(Activation('relu'))\n",
    "# model.add(Convolution2D(64, 3, 3))\n",
    "# model.add(Activation('relu'))\n",
    "model.add(MaxPooling2D(pool_size=(2, 2)))\n",
    "model.add(Dropout(0.5))\n",
    "\n",
    "model.add(Flatten())\n",
    "model.add(Dense(64, name = 'first_dense_layer'))\n",
    "model.add(Activation('relu'))\n",
    "model.add(Dropout(0.2))\n",
    "model.add(Dense(num_classes))\n",
    "model.add(Activation('softmax'))\n",
    "\n",
    "#sgd = SGD(lr=0.01, decay=1e-6, momentum=0.9, nesterov=True)\n",
    "#model.compile(loss='categorical_crossentropy', optimizer=sgd,metrics=[\"accuracy\"])\n",
    "model.compile(loss='categorical_crossentropy', optimizer='rmsprop',metrics=[\"accuracy\"])"
   ]
  },
  {
   "cell_type": "code",
   "execution_count": 7,
   "metadata": {},
   "outputs": [
    {
     "name": "stdout",
     "output_type": "stream",
     "text": [
      "_________________________________________________________________\n",
      "Layer (type)                 Output Shape              Param #   \n",
      "=================================================================\n",
      "conv2d_1 (Conv2D)            (None, 32, 28, 28)        320       \n",
      "_________________________________________________________________\n",
      "activation_1 (Activation)    (None, 32, 28, 28)        0         \n",
      "_________________________________________________________________\n",
      "conv2d_2 (Conv2D)            (None, 32, 26, 26)        9248      \n",
      "_________________________________________________________________\n",
      "activation_2 (Activation)    (None, 32, 26, 26)        0         \n",
      "_________________________________________________________________\n",
      "max_pooling2d_1 (MaxPooling2 (None, 32, 13, 13)        0         \n",
      "_________________________________________________________________\n",
      "dropout_1 (Dropout)          (None, 32, 13, 13)        0         \n",
      "_________________________________________________________________\n",
      "conv2d_3 (Conv2D)            (None, 32, 11, 11)        9248      \n",
      "_________________________________________________________________\n",
      "activation_3 (Activation)    (None, 32, 11, 11)        0         \n",
      "_________________________________________________________________\n",
      "max_pooling2d_2 (MaxPooling2 (None, 32, 5, 5)          0         \n",
      "_________________________________________________________________\n",
      "dropout_2 (Dropout)          (None, 32, 5, 5)          0         \n",
      "_________________________________________________________________\n",
      "flatten_1 (Flatten)          (None, 800)               0         \n",
      "_________________________________________________________________\n",
      "first_dense_layer (Dense)    (None, 64)                51264     \n",
      "_________________________________________________________________\n",
      "activation_4 (Activation)    (None, 64)                0         \n",
      "_________________________________________________________________\n",
      "dropout_3 (Dropout)          (None, 64)                0         \n",
      "_________________________________________________________________\n",
      "dense_1 (Dense)              (None, 10)                650       \n",
      "_________________________________________________________________\n",
      "activation_5 (Activation)    (None, 10)                0         \n",
      "=================================================================\n",
      "Total params: 70,730\n",
      "Trainable params: 70,730\n",
      "Non-trainable params: 0\n",
      "_________________________________________________________________\n"
     ]
    },
    {
     "data": {
      "text/plain": [
       "True"
      ]
     },
     "execution_count": 7,
     "metadata": {},
     "output_type": "execute_result"
    }
   ],
   "source": [
    "model.summary()\n",
    "model.get_config()\n",
    "model.layers[0].get_config()\n",
    "model.layers[0].input_shape\t\t\t\n",
    "model.layers[0].output_shape\t\t\t\n",
    "model.layers[0].get_weights()\n",
    "np.shape(model.layers[0].get_weights()[0])\n",
    "model.layers[0].trainable"
   ]
  },
  {
   "cell_type": "code",
   "execution_count": 8,
   "metadata": {},
   "outputs": [
    {
     "name": "stderr",
     "output_type": "stream",
     "text": [
      "/Users/sachaura/anaconda3/lib/python3.6/site-packages/keras/models.py:837: UserWarning: The `nb_epoch` argument in `fit` has been renamed `epochs`.\n",
      "  warnings.warn('The `nb_epoch` argument in `fit` '\n"
     ]
    },
    {
     "name": "stdout",
     "output_type": "stream",
     "text": [
      "Train on 4616 samples, validate on 1154 samples\n",
      "Epoch 1/10\n",
      "4616/4616 [==============================] - 25s - loss: 1.8470 - acc: 0.3362 - val_loss: 1.4633 - val_acc: 0.4766\n",
      "Epoch 2/10\n",
      "4616/4616 [==============================] - 27s - loss: 1.3574 - acc: 0.5041 - val_loss: 1.1534 - val_acc: 0.5702\n",
      "Epoch 3/10\n",
      "4616/4616 [==============================] - 30s - loss: 1.1399 - acc: 0.5765 - val_loss: 1.0015 - val_acc: 0.6308\n",
      "Epoch 4/10\n",
      "4616/4616 [==============================] - 32s - loss: 1.0275 - acc: 0.5986 - val_loss: 1.0007 - val_acc: 0.5719\n",
      "Epoch 5/10\n",
      "4616/4616 [==============================] - 32s - loss: 0.9414 - acc: 0.6282 - val_loss: 0.8390 - val_acc: 0.6568\n",
      "Epoch 6/10\n",
      "4616/4616 [==============================] - 33s - loss: 0.8881 - acc: 0.6417 - val_loss: 0.8385 - val_acc: 0.6447\n",
      "Epoch 7/10\n",
      "4616/4616 [==============================] - 34s - loss: 0.8589 - acc: 0.6469 - val_loss: 0.8070 - val_acc: 0.6612\n",
      "Epoch 8/10\n",
      "4616/4616 [==============================] - 33s - loss: 0.8163 - acc: 0.6549 - val_loss: 0.7949 - val_acc: 0.6664\n",
      "Epoch 9/10\n",
      "4616/4616 [==============================] - 32s - loss: 0.7993 - acc: 0.6631 - val_loss: 0.7647 - val_acc: 0.6672\n",
      "Epoch 10/10\n",
      "4616/4616 [==============================] - 33s - loss: 0.7770 - acc: 0.6694 - val_loss: 0.7523 - val_acc: 0.6776\n",
      "CNN Error: 32.24%\n"
     ]
    }
   ],
   "source": [
    "\n",
    "# Training\n",
    "hist = model.fit(X_train, y_train, batch_size=64, nb_epoch=10, verbose=1, validation_data=(X_test, y_test))\n",
    "scores = model.evaluate(X_test, y_test, verbose=0)\n",
    "print(\"CNN Error: %.2f%%\" % (100-scores[1]*100))"
   ]
  },
  {
   "cell_type": "code",
   "execution_count": 9,
   "metadata": {},
   "outputs": [
    {
     "name": "stdout",
     "output_type": "stream",
     "text": [
      "Test loss: 0.7523201972607724\n",
      "Test accuracy: 0.6776429809358753\n"
     ]
    }
   ],
   "source": [
    "score = model.evaluate(X_test, y_test, verbose=0)\n",
    "print('Test loss:', score[0])\n",
    "print('Test accuracy:', score[1])"
   ]
  },
  {
   "cell_type": "code",
   "execution_count": 89,
   "metadata": {},
   "outputs": [
    {
     "data": {
      "image/png": "[encoded data removed]",
      "text/plain": [
       "<matplotlib.figure.Figure at 0x1c2cd1df28>"
      ]
     },
     "metadata": {},
     "output_type": "display_data"
    },
    {
     "name": "stdout",
     "output_type": "stream",
     "text": [
      "(28, 28)\n",
      "(1, 1, 28, 28)\n",
      "[[3.69e-05 1.44e-02 1.02e-03 3.25e-02 4.23e-01 5.00e-01 1.90e-02 2.99e-04\n",
      "  1.37e-03 8.70e-03]]\n",
      "1/1 [==============================] - 0s\n",
      "[5]\n"
     ]
    }
   ],
   "source": [
    "# Testing a new image\n",
    "test_image = cv2.imread('/Users/sachaura/Downloads/digits/3_o.png')\n",
    "plt.imshow(test_image)\n",
    "plt.show()\n",
    "test_image=cv2.cvtColor(test_image, cv2.COLOR_BGR2GRAY)\n",
    "test_image=cv2.resize(test_image,(28,28))\n",
    "test_image = np.array(test_image)\n",
    "test_image = test_image.astype('float32')\n",
    "test_image /= 255\n",
    "print (test_image.shape)\n",
    "   \n",
    "if num_channel==1:\n",
    "\tif K.image_dim_ordering()=='th':\n",
    "\t\ttest_image= np.expand_dims(test_image, axis=0)\n",
    "\t\ttest_image= np.expand_dims(test_image, axis=0)\n",
    "\t\tprint (test_image.shape)\n",
    "\telse:\n",
    "\t\ttest_image= np.expand_dims(test_image, axis=3) \n",
    "\t\ttest_image= np.expand_dims(test_image, axis=0)\n",
    "\t\tprint (test_image.shape)\n",
    "\t\t\n",
    "else:\n",
    "\tif K.image_dim_ordering()=='th':\n",
    "\t\ttest_image=np.rollaxis(test_image,2,0)\n",
    "\t\ttest_image= np.expand_dims(test_image, axis=0)\n",
    "\t\tprint (test_image.shape)\n",
    "\telse:\n",
    "\t\ttest_image= np.expand_dims(test_image, axis=0)\n",
    "\t\tprint (test_image.shape)\n",
    "\t\t\n",
    "# Predicting the test image\n",
    "print((model.predict(test_image)))\n",
    "\n",
    "print(model.predict_classes(test_image))"
   ]
  },
  {
   "cell_type": "code",
   "execution_count": 73,
   "metadata": {},
   "outputs": [
    {
     "name": "stdout",
     "output_type": "stream",
     "text": [
      "(1, 1, 28, 28)\n",
      "[[3.17e-10 8.34e-04 6.13e-06 1.62e-04 3.83e-01 6.10e-01 6.43e-03 9.24e-07\n",
      "  6.54e-07 9.41e-05]]\n",
      "1/1 [==============================] - 0s\n",
      "[5]\n",
      "[[0. 0. 0. 0. 1. 0. 0. 0. 0. 0.]]\n"
     ]
    }
   ],
   "source": [
    "score = model.evaluate(X_test, y_test, verbose=0)\n",
    "\n",
    "test_image = X_test[120:121]\n",
    "print (test_image.shape)\n",
    "\n",
    "print(model.predict(test_image))\n",
    "print(model.predict_classes(test_image))\n",
    "print(y_test[120:121])"
   ]
  },
  {
   "cell_type": "code",
   "execution_count": 74,
   "metadata": {},
   "outputs": [
    {
     "name": "stdout",
     "output_type": "stream",
     "text": [
      "             precision    recall  f1-score   support\n",
      "\n",
      "    class 0       0.81      0.98      0.89       112\n",
      "    class 1       0.76      0.68      0.71       238\n",
      "    class 2       0.53      0.53      0.53       111\n",
      "    class 3       0.51      0.48      0.49        81\n",
      "    class 4       0.43      0.23      0.30        92\n",
      "    class 5       0.52      0.52      0.52       107\n",
      "    class 6       0.68      0.70      0.69       120\n",
      "    class 7       0.80      0.83      0.81       104\n",
      "    class 8       0.69      0.89      0.78        90\n",
      "    class 9       0.65      0.75      0.70        99\n",
      "\n",
      "avg / total       0.66      0.67      0.66      1154\n",
      "\n",
      "[[110   2   0   0   0   0   0   0   0   0]\n",
      " [ 24 161   8   0   3   0   3   0   0  39]\n",
      " [  0  43  59   4   1   0   0   0   4   0]\n",
      " [  0   0  32  39   8   0   0   0   2   0]\n",
      " [  0   2   0  31  21  37   0   0   1   0]\n",
      " [  0   0   0   0  14  56  37   0   0   0]\n",
      " [  0   0   0   1   0  13  84  20   2   0]\n",
      " [  1   0   6   1   0   0   0  86  10   0]\n",
      " [  0   2   6   0   1   0   0   1  80   0]\n",
      " [  0   3   1   1   1   1   0   1  17  74]]\n"
     ]
    }
   ],
   "source": [
    "from sklearn.metrics import classification_report,confusion_matrix\n",
    "import itertools\n",
    "\n",
    "Y_pred = model.predict(X_test)\n",
    "# print(Y_pred)\n",
    "y_pred = np.argmax(Y_pred, axis=1)\n",
    "# print(y_pred)\n",
    "#y_pred = model.predict_classes(X_test)\n",
    "#print(y_pred)\n",
    "target_names = ['class 0', 'class 1', 'class 2','class 3','class 4', 'class 5', 'class 6','class 7','class 8', 'class 9']\n",
    "\t\t\t\t\t\n",
    "print(classification_report(np.argmax(y_test,axis=1), y_pred,target_names=target_names))\n",
    "\n",
    "print(confusion_matrix(np.argmax(y_test,axis=1), y_pred))"
   ]
  },
  {
   "cell_type": "code",
   "execution_count": 75,
   "metadata": {},
   "outputs": [
    {
     "name": "stdout",
     "output_type": "stream",
     "text": [
      "Confusion matrix, without normalization\n",
      "[[110   2   0   0   0   0   0   0   0   0]\n",
      " [ 24 161   8   0   3   0   3   0   0  39]\n",
      " [  0  43  59   4   1   0   0   0   4   0]\n",
      " [  0   0  32  39   8   0   0   0   2   0]\n",
      " [  0   2   0  31  21  37   0   0   1   0]\n",
      " [  0   0   0   0  14  56  37   0   0   0]\n",
      " [  0   0   0   1   0  13  84  20   2   0]\n",
      " [  1   0   6   1   0   0   0  86  10   0]\n",
      " [  0   2   6   0   1   0   0   1  80   0]\n",
      " [  0   3   1   1   1   1   0   1  17  74]]\n"
     ]
    },
    {
     "data": {
      "image/png": "[encoded data removed]",
      "text/plain": [
       "<matplotlib.figure.Figure at 0x1c2ea69c88>"
      ]
     },
     "metadata": {},
     "output_type": "display_data"
    }
   ],
   "source": [
    "import matplotlib.pyplot as plt\n",
    "# Plotting the confusion matrix\n",
    "def plot_confusion_matrix(cm, classes,\n",
    "                          normalize=False,\n",
    "                          title='Confusion matrix',\n",
    "                          cmap=plt.cm.Blues):\n",
    "    \"\"\"\n",
    "    This function prints and plots the confusion matrix.\n",
    "    Normalization can be applied by setting `normalize=True`.\n",
    "    \"\"\"\n",
    "    plt.imshow(cm, interpolation='nearest', cmap=cmap)\n",
    "    plt.title(title)\n",
    "    plt.colorbar()\n",
    "    tick_marks = np.arange(len(classes))\n",
    "    plt.xticks(tick_marks, classes, rotation=45)\n",
    "    plt.yticks(tick_marks, classes)\n",
    "\n",
    "    if normalize:\n",
    "        cm = cm.astype('float') / cm.sum(axis=1)[:, np.newaxis]\n",
    "        print(\"Normalized confusion matrix\")\n",
    "    else:\n",
    "        print('Confusion matrix, without normalization')\n",
    "\n",
    "    print(cm)\n",
    "\n",
    "    thresh = cm.max() / 2.\n",
    "    for i, j in itertools.product(range(cm.shape[0]), range(cm.shape[1])):\n",
    "        plt.text(j, i, cm[i, j],\n",
    "                 horizontalalignment=\"center\",\n",
    "                 color=\"white\" if cm[i, j] > thresh else \"black\")\n",
    "\n",
    "    plt.tight_layout()\n",
    "    plt.ylabel('True label')\n",
    "    plt.xlabel('Predicted label')\n",
    "\n",
    "# Compute confusion matrix\n",
    "cnf_matrix = (confusion_matrix(np.argmax(y_test,axis=1), y_pred))\n",
    "\n",
    "np.set_printoptions(precision=2)\n",
    "\n",
    "plt.figure()\n",
    "\n",
    "# Plot non-normalized confusion matrix\n",
    "plot_confusion_matrix(cnf_matrix, classes=target_names,\n",
    "                      title='Confusion matrix')\n",
    "plt.show()"
   ]
  },
  {
   "cell_type": "code",
   "execution_count": 76,
   "metadata": {},
   "outputs": [],
   "source": [
    "import numpy\n",
    "from keras.models import Sequential, Model\n",
    "from keras.layers import Dense\n",
    "from keras.layers import Dropout\n",
    "from keras.layers import Flatten\n",
    "from keras.layers.convolutional import Conv2D\n",
    "from keras.layers.convolutional import MaxPooling2D\n",
    "from keras.utils import np_utils\n",
    "from keras import backend as K\n",
    "from cv2 import CV_64F\n",
    "K.set_image_dim_ordering('th')"
   ]
  },
  {
   "cell_type": "code",
   "execution_count": 77,
   "metadata": {},
   "outputs": [
    {
     "name": "stderr",
     "output_type": "stream",
     "text": [
      "/Users/sachaura/anaconda3/lib/python3.6/site-packages/ipykernel_launcher.py:1: UserWarning: Update your `Model` call to the Keras 2 API: `Model(inputs=Tensor(\"co..., outputs=Tensor(\"fi...)`\n",
      "  \"\"\"Entry point for launching an IPython kernel.\n"
     ]
    },
    {
     "name": "stdout",
     "output_type": "stream",
     "text": [
      "4616/4616 [==============================] - 27s    \n",
      "1152/1154 [============================>.] - ETA: 0s[[-1.72  0.95 -2.33 ... -1.44 -1.49  2.58]\n",
      " [-2.05 -1.57 -2.79 ... -1.39 -1.33 -0.37]\n",
      " [-1.15 -0.98 -0.25 ... -1.84 -1.99 -1.09]\n",
      " ...\n",
      " [-1.07 -0.02 -0.85 ...  1.71  1.74  1.5 ]\n",
      " [-2.38  1.83 -2.73 ... -2.37 -2.85  2.24]\n",
      " [-1.33  1.09  3.24 ...  2.9  -1.11  1.82]]\n"
     ]
    }
   ],
   "source": [
    "model_dense_layer_output = Model(input=model.input, output=model.get_layer('first_dense_layer').output)\n",
    "svm_x_train = model_dense_layer_output.predict(X_train)\n",
    "svm_x_test = model_dense_layer_output.predict(X_test)\n",
    "# svm_y_train = np.array([x[0] for x in y_train])\n",
    "svm_y_train = model.predict_classes(X_train)\n",
    "svm_y_test = model.predict_classes(X_test)\n",
    "\n",
    "\n",
    "# svm_y_test = np.array([x[0] for x in y_test])\n",
    "\n",
    "# np.savetxt('/home/saumya/Desktop/svm_telugu_input_data/telu2_svm_x_train.csv', svm_x_train, delimiter = ',') \n",
    "# np.savetxt('/home/saumya/Desktop/svm_telugu_input_data/telu2_svm_y_train.csv', svm_y_train, delimiter = ',') \n",
    "# np.savetxt('/home/saumya/Desktop/svm_telugu_input_data/telu2_svm_x_test.csv', svm_x_test, delimiter = ',') \n",
    "# np.savetxt('/home/saumya/Desktop/svm_telugu_input_data/telu2_svm_y_test.csv', svm_y_test, delimiter = ',') \n",
    "\n",
    "print(svm_x_train)"
   ]
  },
  {
   "cell_type": "code",
   "execution_count": 61,
   "metadata": {},
   "outputs": [],
   "source": [
    "import pandas as pd\n",
    "data = pd.DataFrame({\"0\":[1,0,0,0,0,0,0,0,0,0],\"1\":[0,1,0,0,0,0,0,0,0,0],\"2\":[0,0,1,0,0,0,0,0,0,0],\"3\":[0,0,0,1,0,0,0,0,0,0],\"4\":[0,0,0,0,1,0,0,0,0,0],\"5\":[0,0,0,0,0,1,0,0,0,0],\"6\":[0,0,0,0,0,0,1,0,0,0],\"7\":[0,0,0,0,0,0,0,1,0,0],\"8\":[0,0,0,0,0,0,0,0,1,0],\"9\":[0,0,0,0,0,0,0,0,0,1]})\n",
    "\n",
    "def get_animal(row):\n",
    "    for c in data.columns:\n",
    "        if row[c]==1:\n",
    "            return c"
   ]
  },
  {
   "cell_type": "code",
   "execution_count": 64,
   "metadata": {},
   "outputs": [
    {
     "ename": "AttributeError",
     "evalue": "'numpy.ndarray' object has no attribute 'apply'",
     "output_type": "error",
     "traceback": [
      "\u001b[0;31m---------------------------------------------------------------------------\u001b[0m",
      "\u001b[0;31mAttributeError\u001b[0m                            Traceback (most recent call last)",
      "\u001b[0;32m<ipython-input-64-d47434a9a086>\u001b[0m in \u001b[0;36m<module>\u001b[0;34m()\u001b[0m\n\u001b[0;32m----> 1\u001b[0;31m \u001b[0mY\u001b[0m\u001b[0;34m.\u001b[0m\u001b[0mapply\u001b[0m\u001b[0;34m(\u001b[0m\u001b[0mget_animal\u001b[0m\u001b[0;34m,\u001b[0m \u001b[0maxis\u001b[0m\u001b[0;34m=\u001b[0m\u001b[0;36m1\u001b[0m\u001b[0;34m)\u001b[0m\u001b[0;34m\u001b[0m\u001b[0m\n\u001b[0m",
      "\u001b[0;31mAttributeError\u001b[0m: 'numpy.ndarray' object has no attribute 'apply'"
     ]
    }
   ],
   "source": [
    "Y.apply(get_animal, axis=1)"
   ]
  },
  {
   "cell_type": "code",
   "execution_count": 78,
   "metadata": {},
   "outputs": [],
   "source": [
    "from cv2 import CV_64F\n",
    "import cv2\n",
    "from sklearn import svm\n",
    "from sklearn import metrics\n",
    "import random\n",
    "import json\n",
    "from keras.models import model_from_json\n",
    "\n",
    "from sklearn.ensemble import RandomForestClassifier"
   ]
  },
  {
   "cell_type": "code",
   "execution_count": 79,
   "metadata": {},
   "outputs": [],
   "source": [
    "clf = svm.LinearSVC()\n",
    "clf.fit(svm_x_train, svm_y_train)\n",
    "\n",
    "y_predicted = clf.predict(svm_x_test)"
   ]
  },
  {
   "cell_type": "code",
   "execution_count": 80,
   "metadata": {},
   "outputs": [
    {
     "name": "stdout",
     "output_type": "stream",
     "text": [
      "[0 8 1 ... 5 2 9]\n"
     ]
    }
   ],
   "source": [
    "print(svm_y_test)"
   ]
  },
  {
   "cell_type": "code",
   "execution_count": 81,
   "metadata": {},
   "outputs": [
    {
     "name": "stdout",
     "output_type": "stream",
     "text": [
      "[[134   1   0   0   0   0   0   0   0   0]\n",
      " [  4 203   0   0   1   1   1   0   2   1]\n",
      " [  2   5  94   0   0   0   2   1   8   0]\n",
      " [  0   1   5  68   1   0   1   0   1   0]\n",
      " [  0   2   0   9  19  19   0   0   0   0]\n",
      " [  0   1   0   1   5  90   9   0   0   1]\n",
      " [  0   4   0   0   1   2 117   0   0   0]\n",
      " [  0   0   2   0   0   0   1 105   0   0]\n",
      " [  0   0   0   0   0   0   1   0 115   0]\n",
      " [  0   0   0   0   0   0   0   0   0 113]]\n",
      "Confusion matrix, without normalization\n",
      "[[134   1   0   0   0   0   0   0   0   0]\n",
      " [  4 203   0   0   1   1   1   0   2   1]\n",
      " [  2   5  94   0   0   0   2   1   8   0]\n",
      " [  0   1   5  68   1   0   1   0   1   0]\n",
      " [  0   2   0   9  19  19   0   0   0   0]\n",
      " [  0   1   0   1   5  90   9   0   0   1]\n",
      " [  0   4   0   0   1   2 117   0   0   0]\n",
      " [  0   0   2   0   0   0   1 105   0   0]\n",
      " [  0   0   0   0   0   0   1   0 115   0]\n",
      " [  0   0   0   0   0   0   0   0   0 113]]\n",
      "Accuracy:  0.9168110918544194\n"
     ]
    },
    {
     "data": {
      "image/png": "[encoded data removed]",
      "text/plain": [
       "<matplotlib.figure.Figure at 0x1c3515c630>"
      ]
     },
     "metadata": {},
     "output_type": "display_data"
    }
   ],
   "source": [
    "accuracy = metrics.accuracy_score(svm_y_test, y_predicted)\n",
    "cm = metrics.confusion_matrix(svm_y_test, y_predicted)\n",
    "print(cm)\n",
    "plt.imshow(cm)\n",
    "target_names = ['class 0', 'class 1', 'class 2','class 3','class 4', 'class 5', 'class 6','class 7','class 8', 'class 9']\n",
    "plot_confusion_matrix(cm, classes=target_names,\n",
    "                      title='Confusion matrix')\n",
    "print(\"Accuracy: \",accuracy)"
   ]
  },
  {
   "cell_type": "code",
   "execution_count": 82,
   "metadata": {},
   "outputs": [],
   "source": [
    "clf = svm.SVC()\n",
    "clf.fit(svm_x_train, svm_y_train)\n",
    "\n",
    "y_predicted = clf.predict(svm_x_test)"
   ]
  },
  {
   "cell_type": "code",
   "execution_count": 83,
   "metadata": {},
   "outputs": [
    {
     "name": "stdout",
     "output_type": "stream",
     "text": [
      "[[133   1   0   0   0   0   0   0   1   0]\n",
      " [  2 205   2   0   0   1   0   0   0   3]\n",
      " [  0   6 102   0   0   0   0   1   3   0]\n",
      " [  0   0   7  68   2   0   0   0   0   0]\n",
      " [  0   1   0   4  33  11   0   0   0   0]\n",
      " [  0   0   0   0   2  98   6   0   0   1]\n",
      " [  0   1   0   0   0   2 119   1   1   0]\n",
      " [  0   0   0   0   0   0   1 107   0   0]\n",
      " [  0   0   1   1   1   0   0   0 113   0]\n",
      " [  0   0   0   0   0   0   0   0   0 113]]\n",
      "Confusion matrix, without normalization\n",
      "[[133   1   0   0   0   0   0   0   1   0]\n",
      " [  2 205   2   0   0   1   0   0   0   3]\n",
      " [  0   6 102   0   0   0   0   1   3   0]\n",
      " [  0   0   7  68   2   0   0   0   0   0]\n",
      " [  0   1   0   4  33  11   0   0   0   0]\n",
      " [  0   0   0   0   2  98   6   0   0   1]\n",
      " [  0   1   0   0   0   2 119   1   1   0]\n",
      " [  0   0   0   0   0   0   1 107   0   0]\n",
      " [  0   0   1   1   1   0   0   0 113   0]\n",
      " [  0   0   0   0   0   0   0   0   0 113]]\n",
      "Accuracy:  0.9454072790294628\n"
     ]
    },
    {
     "data": {
      "image/png": "[encoded data removed]",
      "text/plain": [
       "<matplotlib.figure.Figure at 0x1c353e6f28>"
      ]
     },
     "metadata": {},
     "output_type": "display_data"
    }
   ],
   "source": [
    "accuracy = metrics.accuracy_score(svm_y_test, y_predicted)\n",
    "cm = metrics.confusion_matrix(svm_y_test, y_predicted)\n",
    "print(cm)\n",
    "plt.imshow(cm)\n",
    "target_names = ['class 0', 'class 1', 'class 2','class 3','class 4', 'class 5', 'class 6','class 7','class 8', 'class 9']\n",
    "plot_confusion_matrix(cm, classes=target_names,\n",
    "                      title='Confusion matrix')\n",
    "\n",
    "print(\"Accuracy: \",accuracy)"
   ]
  },
  {
   "cell_type": "code",
   "execution_count": 84,
   "metadata": {},
   "outputs": [],
   "source": [
    "clf = RandomForestClassifier(n_estimators = 75, n_jobs=10, random_state=0)\n",
    "clf.fit(svm_x_train,svm_y_train)\n",
    "predicted_output = clf.predict(svm_x_test)"
   ]
  },
  {
   "cell_type": "code",
   "execution_count": 85,
   "metadata": {},
   "outputs": [
    {
     "name": "stdout",
     "output_type": "stream",
     "text": [
      "Accuracy: 0.9566724436741768\n"
     ]
    }
   ],
   "source": [
    "total_test_samples = svm_y_test.shape[0]\n",
    "correct_predictions=0\n",
    "for i in range(0,total_test_samples):\n",
    "    if(predicted_output[i]==svm_y_test[i]):\n",
    "        correct_predictions+=1\n",
    "        \n",
    "accuracy=correct_predictions/(total_test_samples*1.0)\n",
    "print(\"Accuracy:\",accuracy)"
   ]
  },
  {
   "cell_type": "code",
   "execution_count": 54,
   "metadata": {},
   "outputs": [
    {
     "name": "stdout",
     "output_type": "stream",
     "text": [
      "[1 6 0 ... 8 5 8]\n"
     ]
    }
   ],
   "source": [
    "print(svm_y_train)"
   ]
  },
  {
   "cell_type": "code",
   "execution_count": 94,
   "metadata": {},
   "outputs": [
    {
     "data": {
      "image/png": "[encoded data removed]",
      "text/plain": [
       "<matplotlib.figure.Figure at 0x1175beda0>"
      ]
     },
     "metadata": {},
     "output_type": "display_data"
    },
    {
     "name": "stdout",
     "output_type": "stream",
     "text": [
      "(28, 28)\n",
      "(1, 1, 28, 28)\n",
      "[[2.32e-04 4.76e-02 1.32e-02 1.57e-02 9.70e-02 3.49e-01 4.46e-01 6.61e-03\n",
      "  1.64e-03 2.28e-02]]\n",
      "1/1 [==============================] - 0s\n",
      "[6]\n"
     ]
    }
   ],
   "source": [
    "# Testing a new image\n",
    "test_image = cv2.imread('//Users/sachaura/Downloads/digits/5_t.png')\n",
    "plt.imshow(test_image)\n",
    "plt.show()\n",
    "test_image=cv2.cvtColor(test_image, cv2.COLOR_BGR2GRAY)\n",
    "test_image=cv2.resize(test_image,(28,28))\n",
    "test_image = np.array(test_image)\n",
    "test_image = test_image.astype('float32')\n",
    "test_image /= 255\n",
    "print (test_image.shape)\n",
    "   \n",
    "if num_channel==1:\n",
    "\tif K.image_dim_ordering()=='th':\n",
    "\t\ttest_image= np.expand_dims(test_image, axis=0)\n",
    "\t\ttest_image= np.expand_dims(test_image, axis=0)\n",
    "\t\tprint (test_image.shape)\n",
    "\telse:\n",
    "\t\ttest_image= np.expand_dims(test_image, axis=3) \n",
    "\t\ttest_image= np.expand_dims(test_image, axis=0)\n",
    "\t\tprint (test_image.shape)\n",
    "\t\t\n",
    "else:\n",
    "\tif K.image_dim_ordering()=='th':\n",
    "\t\ttest_image=np.rollaxis(test_image,2,0)\n",
    "\t\ttest_image= np.expand_dims(test_image, axis=0)\n",
    "\t\tprint (test_image.shape)\n",
    "\telse:\n",
    "\t\ttest_image= np.expand_dims(test_image, axis=0)\n",
    "\t\tprint (test_image.shape)\n",
    "\t\t\n",
    "# Predicting the test image\n",
    "print((model.predict(test_image)))\n",
    "\n",
    "print(model.predict_classes(test_image))"
   ]
  },
  {
   "cell_type": "code",
   "execution_count": 95,
   "metadata": {},
   "outputs": [
    {
     "name": "stdout",
     "output_type": "stream",
     "text": [
      "(1, 1, 32, 26, 26)\n",
      "(32, 26, 26)\n"
     ]
    },
    {
     "data": {
      "image/png": "[encoded data removed]",
      "text/plain": [
       "<matplotlib.figure.Figure at 0x1c2cf8a908>"
      ]
     },
     "metadata": {},
     "output_type": "display_data"
    },
    {
     "data": {
      "image/png": "[encoded data removed]",
      "text/plain": [
       "<matplotlib.figure.Figure at 0x1c2e1d1d68>"
      ]
     },
     "metadata": {},
     "output_type": "display_data"
    }
   ],
   "source": [
    "# Visualizing the intermediate layer\n",
    "\n",
    "#\n",
    "def get_featuremaps(model, layer_idx, X_batch):\n",
    "\tget_activations = K.function([model.layers[0].input, K.learning_phase()],[model.layers[layer_idx].output,])\n",
    "\tactivations = get_activations([X_batch,0])\n",
    "\treturn activations\n",
    "\n",
    "layer_num=3\n",
    "filter_num=0\n",
    "\n",
    "activations = get_featuremaps(model, int(layer_num),test_image)\n",
    "\n",
    "print (np.shape(activations))\n",
    "feature_maps = activations[0][0]  \n",
    "# print (feature_maps)\n",
    "print (np.shape(feature_maps))\n",
    "if K.image_dim_ordering()=='th':\n",
    "\tfeature_maps=np.rollaxis((np.rollaxis(feature_maps,2, 0)),2, 0)\n",
    "# print (feature_maps.shape)\n",
    "\n",
    "fig=plt.figure(figsize=(16,16))\n",
    "plt.imshow(feature_maps[:,:,filter_num],cmap='gray')\n",
    "plt.savefig(\"featuremaps-layer-{}\".format(layer_num) + \"-filternum-{}\".format(filter_num)+'.jpg')\n",
    "\n",
    "num_of_featuremaps=feature_maps.shape[2]\n",
    "fig=plt.figure(figsize=(8,8))\t\n",
    "plt.title(\"featuremaps-layer-{}\".format(layer_num))\n",
    "subplot_num=int(np.ceil(np.sqrt(num_of_featuremaps)))\n",
    "for i in range(int(num_of_featuremaps)):\n",
    "\tax = fig.add_subplot(subplot_num, subplot_num, i+1)\n",
    "# \tax.imshow(output_image[0,:,:,i],interpolation='nearest' ) #to see the first filter\n",
    "\tax.imshow(feature_maps[:,:,i],cmap='gray')\n",
    "\tplt.xticks([])\n",
    "\tplt.yticks([])\n",
    "\tplt.tight_layout()\n",
    "plt.show()\n",
    "fig.savefig(\"featuremaps-layer-{}\".format(layer_num) + '.jpg')"
   ]
  },
  {
   "cell_type": "code",
   "execution_count": 101,
   "metadata": {},
   "outputs": [
    {
     "name": "stdout",
     "output_type": "stream",
     "text": [
      "[6]\n"
     ]
    }
   ],
   "source": [
    "svm_x = model_dense_layer_output.predict(test_image)\n",
    "print(clf.predict(svm_x))"
   ]
  },
  {
   "cell_type": "code",
   "execution_count": 11,
   "metadata": {},
   "outputs": [
    {
     "name": "stdout",
     "output_type": "stream",
     "text": [
      "Saved model to disk\n"
     ]
    }
   ],
   "source": [
    "# serialize model to JSON\n",
    "oriyaModel_json = model.to_json()\n",
    "with open(\"oriyaModel.json\", \"w\") as json_file:\n",
    "    json_file.write(oriyaModel_json)\n",
    "# serialize weights to HDF5\n",
    "model.save_weights(\"oriyaModel.h5\")\n",
    "print(\"Saved model to disk\")"
   ]
  },
  {
   "cell_type": "code",
   "execution_count": 12,
   "metadata": {},
   "outputs": [
    {
     "name": "stdout",
     "output_type": "stream",
     "text": [
      "Loaded model from disk\n"
     ]
    }
   ],
   "source": [
    "from keras.models import model_from_json\n",
    "# load json and create model\n",
    "json_file = open('oriyaModel.json', 'r')\n",
    "loaded_model_json = json_file.read()\n",
    "json_file.close()\n",
    "loaded_model = model_from_json(loaded_model_json)\n",
    "# load weights into new model\n",
    "loaded_model.load_weights(\"oriyaModel.h5\")\n",
    "print(\"Loaded model from disk\")"
   ]
  },
  {
   "cell_type": "code",
   "execution_count": 14,
   "metadata": {},
   "outputs": [
    {
     "data": {
      "image/png": "[encoded data removed]",
      "text/plain": [
       "<matplotlib.figure.Figure at 0x1c2dad9978>"
      ]
     },
     "metadata": {},
     "output_type": "display_data"
    },
    {
     "name": "stdout",
     "output_type": "stream",
     "text": [
      "(28, 28)\n",
      "(1, 1, 28, 28)\n",
      "[[0.00493415 0.00423657 0.14734393 0.14191477 0.04204272 0.01429487\n",
      "  0.01816048 0.04678283 0.48712328 0.09316644]]\n",
      "1/1 [==============================] - 0s\n",
      "[8]\n"
     ]
    }
   ],
   "source": [
    "# Testing a new image\n",
    "test_image = cv2.imread('//Users/sachaura/Downloads/digits/7_o.png')\n",
    "plt.imshow(test_image)\n",
    "plt.show()\n",
    "test_image=cv2.cvtColor(test_image, cv2.COLOR_BGR2GRAY)\n",
    "test_image=cv2.resize(test_image,(28,28))\n",
    "test_image = np.array(test_image)\n",
    "test_image = test_image.astype('float32')\n",
    "test_image /= 255\n",
    "print (test_image.shape)\n",
    "   \n",
    "if num_channel==1:\n",
    "\tif K.image_dim_ordering()=='th':\n",
    "\t\ttest_image= np.expand_dims(test_image, axis=0)\n",
    "\t\ttest_image= np.expand_dims(test_image, axis=0)\n",
    "\t\tprint (test_image.shape)\n",
    "\telse:\n",
    "\t\ttest_image= np.expand_dims(test_image, axis=3) \n",
    "\t\ttest_image= np.expand_dims(test_image, axis=0)\n",
    "\t\tprint (test_image.shape)\n",
    "\t\t\n",
    "else:\n",
    "\tif K.image_dim_ordering()=='th':\n",
    "\t\ttest_image=np.rollaxis(test_image,2,0)\n",
    "\t\ttest_image= np.expand_dims(test_image, axis=0)\n",
    "\t\tprint (test_image.shape)\n",
    "\telse:\n",
    "\t\ttest_image= np.expand_dims(test_image, axis=0)\n",
    "\t\tprint (test_image.shape)\n",
    "\t\t\n",
    "# Predicting the test image\n",
    "print((loaded_model.predict(test_image)))\n",
    "\n",
    "print(loaded_model.predict_classes(test_image))"
   ]
  },
  {
   "cell_type": "code",
   "execution_count": 15,
   "metadata": {},
   "outputs": [
    {
     "ename": "ModuleNotFoundError",
     "evalue": "No module named 'PyQt4'",
     "output_type": "error",
     "traceback": [
      "\u001b[0;31m---------------------------------------------------------------------------\u001b[0m",
      "\u001b[0;31mModuleNotFoundError\u001b[0m                       Traceback (most recent call last)",
      "\u001b[0;32m<ipython-input-15-3e0830c43b35>\u001b[0m in \u001b[0;36m<module>\u001b[0;34m()\u001b[0m\n\u001b[0;32m----> 1\u001b[0;31m \u001b[0;32mfrom\u001b[0m \u001b[0mPyQt4\u001b[0m \u001b[0;32mimport\u001b[0m \u001b[0mQtGui\u001b[0m\u001b[0;34m,\u001b[0m\u001b[0mQtCore\u001b[0m\u001b[0;34m\u001b[0m\u001b[0m\n\u001b[0m\u001b[1;32m      2\u001b[0m \u001b[0;32mfrom\u001b[0m \u001b[0mPyQt4\u001b[0m\u001b[0;34m.\u001b[0m\u001b[0mQtCore\u001b[0m \u001b[0;32mimport\u001b[0m \u001b[0;34m*\u001b[0m\u001b[0;34m\u001b[0m\u001b[0m\n\u001b[1;32m      3\u001b[0m \u001b[0;32mfrom\u001b[0m \u001b[0mPyQt4\u001b[0m\u001b[0;34m.\u001b[0m\u001b[0mQtGui\u001b[0m \u001b[0;32mimport\u001b[0m \u001b[0;34m*\u001b[0m\u001b[0;34m\u001b[0m\u001b[0m\n\u001b[1;32m      4\u001b[0m \u001b[0;34m\u001b[0m\u001b[0m\n\u001b[1;32m      5\u001b[0m \u001b[0;32mimport\u001b[0m \u001b[0msys\u001b[0m\u001b[0;34m,\u001b[0m \u001b[0mos\u001b[0m\u001b[0;34m\u001b[0m\u001b[0m\n",
      "\u001b[0;31mModuleNotFoundError\u001b[0m: No module named 'PyQt4'"
     ]
    }
   ],
   "source": [
    "from PyQt4 import QtGui,QtCore \n",
    "from PyQt4.QtCore import * \n",
    "from PyQt4.QtGui import * \n",
    "\n",
    "import sys, os\n",
    "import numpy as np\n",
    "\n",
    "import main\n",
    "from main import *\n",
    "\n",
    "class predict_worker(object):\n",
    "\tdef __init__(self,parent=None,model_f=\"model/conv2D_classifier.h5\"):\n",
    "\t\tself.cur_model = load_model(model_f)\n",
    "\t\tself.parent=parent\n",
    "\n",
    "\tdef process_data(self,data):\n",
    "\t\tself.cur_data = data\n",
    "\t\tself.parent.results.setText(\"Calculating...\")\n",
    "\t\t\n",
    "\t\tself.x_pos = self.cur_data.x_pos\n",
    "\t\tself.y_pos = self.cur_data.y_pos\n",
    "\n",
    "\t\tbuf = 4 # 4 buffer on all sides\n",
    "\n",
    "\t\tmax_x = max(self.x_pos)\n",
    "\t\tmin_x = min(self.x_pos)\n",
    "\t\tmax_y = max(self.y_pos)\n",
    "\t\tmin_y = min(self.y_pos)\n",
    "\n",
    "\t\tx_span = float(max_x-min_x)\n",
    "\t\ty_span = float(max_y-min_y) \n",
    "\n",
    "\t\tfor i in range(len(self.x_pos)):\n",
    "\t\t\tself.x_pos[i] = (self.x_pos[i]-min_x)/x_span*20.0+buf\n",
    "\t\t\tself.y_pos[i] = (self.y_pos[i]-min_y)/y_span*20.0+buf\n",
    "\n",
    "\t\tpixels = []\n",
    "\n",
    "\t\tfor y in range(28):\n",
    "\t\t\tfor x in range(28):\n",
    "\t\t\t\tf_len = len(pixels)\n",
    "\t\t\t\tfor p_x,p_y in zip(self.x_pos,self.y_pos):\n",
    "\t\t\t\t\tif int(p_x) in [x-1,x,x+1] and int(p_y) in [y-1,y,y+1]:\n",
    "\t\t\t\t\t\tpixels.append(1.0)\n",
    "\t\t\t\t\t\tbreak\n",
    "\t\t\t\tif f_len==len(pixels):\n",
    "\t\t\t\t\tpixels.append(0.0)\n",
    "\n",
    "\t\timage = image_t(pixels)\n",
    "\t\timage.output_terminal(threshold=0.9)\n",
    "\n",
    "\t\tif K.image_data_format()=='channels_first':\n",
    "\t\t\tinput_shape = (1,28,28)\n",
    "\t\telse:\n",
    "\t\t\tinput_shape = (28,28,1)\n",
    "\n",
    "\t\timage = np.array([np.array(image.pixels).reshape(input_shape)])\n",
    "\t\tprediction = self.cur_model.predict(image,batch_size=1,verbose=0)\n",
    "\t\t\n",
    "\t\thighest_prob = 0.0 \n",
    "\t\thighest_prob_val = None\n",
    "\n",
    "\t\ti=0\n",
    "\t\tfor p in prediction[0]:\n",
    "\t\t\tif p>highest_prob:\n",
    "\t\t\t\thighest_prob=p \n",
    "\t\t\t\thighest_prob_val=i\n",
    "\t\t\ti+=1\n",
    "\n",
    "\t\tself.parent.results.setText(\"Digit is \"+str(highest_prob_val)+\", prob = %0.2f\"%(100.0*highest_prob))\n",
    "\n",
    "class drawing_path():\n",
    "\tdef __init__(self):\n",
    "\t\tself.x_pos = []\n",
    "\t\tself.y_pos = []\n",
    "\n",
    "\tdef add_point(self, x, y):\n",
    "\t\tself.x_pos.append(x)\n",
    "\t\tself.y_pos.append(y)\n",
    "\n",
    "\tdef clear_path(self):\n",
    "\t\tself.x_pos = []\n",
    "\t\tself.y_pos = []\n",
    "\n",
    "\tdef print_path(self):\n",
    "\t\tsmallest_x \t= 1000\n",
    "\t\tlargest_x \t= 0\n",
    "\t\tsmallest_y \t= 1000\n",
    "\t\tlargest_y \t= 0\n",
    "\n",
    "\t\tfor x,y in list(zip(self.x_pos, self.y_pos)):\n",
    "\t\t\tif x > largest_x:\n",
    "\t\t\t\tlargest_x = x\n",
    "\t\t\tif x < smallest_x:\n",
    "\t\t\t\tsmallest_x = x\n",
    "\t\t\tif y > largest_y:\n",
    "\t\t\t\tlargest_y = y\n",
    "\t\t\tif y < smallest_y:\n",
    "\t\t\t\tsmallest_y = y\n",
    "\n",
    "\t\ttranslated_x = []\n",
    "\t\ttranslated_y = []\n",
    "\n",
    "\t\tfor x,y in list(zip(self.x_pos, self.y_pos)):\n",
    "\t\t\ttranslated_x.append(x-smallest_x)\n",
    "\t\t\ttranslated_y.append(y-smallest_y)\n",
    "\n",
    "\t\tx_size = largest_x - smallest_x\n",
    "\t\ty_size = largest_y - smallest_y\n",
    "\n",
    "\t\tfor y in range(y_size):\n",
    "\t\t\tline = \"\"\n",
    "\t\t\tfor x in range(x_size):\n",
    "\t\t\t\tisPixel = False\n",
    "\t\t\t\tfor x_coor,y_coor in list(zip(translated_x, translated_y)):\n",
    "\t\t\t\t\tif isPixel == False:\n",
    "\t\t\t\t\t\tif x_coor==x and y_coor==y:\n",
    "\t\t\t\t\t\t\tline += \"X\"\n",
    "\t\t\t\t\t\t\tisPixel = True\n",
    "\t\t\t\tif isPixel == False:\n",
    "\t\t\t\t\tline += \"  \"\n",
    "\t\t\tprint(line)\n",
    "\n",
    "class window(QWidget):\n",
    "\tdef __init__(self, parent=None):\n",
    "\t\tsuper(window, self).__init__()\n",
    "\t\tself.worker = predict_worker(parent=self)\n",
    "\t\tself.init_ui()\n",
    "\n",
    "\tdef init_ui(self):\n",
    "\t\tself.setFixedHeight(600)\n",
    "\t\tself.setFixedWidth(450)\n",
    "\t\tself.setWindowTitle(\"MNIST Digit Prediction\")\n",
    "\t\tself.hasDrawing = False\n",
    "\t\tself.mouseHeld = False\n",
    "\n",
    "\t\tself.path = drawing_path()\n",
    "\n",
    "\t\tself.rect = QRect(0, 50, 400, 400)\n",
    "\n",
    "\t\tself.label = QLabel(\"Click and hold the left mouse button to draw.\", self)\n",
    "\t\tself.label.move(25, 10)\n",
    "\t\tself.label.setFixedWidth(300)\n",
    "\n",
    "\t\tself.label2 = QLabel(\"Classifications include numerals (0-9).\",self)\n",
    "\t\tself.label2.move(25,35)\n",
    "\t\tself.label2.setFixedWidth(300)\n",
    "\n",
    "\t\tself.results = QLabel(\"Results will appear here\", self)\n",
    "\t\tself.results.move(25, 540)\n",
    "\t\tself.results.setFixedWidth(300)\n",
    "\t\tself.result_label = QLabel(\"\", self)\n",
    "\t\tself.result_label.move(330, 490)\n",
    "\n",
    "\t\tself.clear_button = QPushButton(\"Clear\", self)\n",
    "\t\tself.clear_button.move(330, 535)\n",
    "\t\tself.clear_button.clicked.connect(self.clear)\n",
    "\n",
    "\t\tself.upper_line = QFrame(self)\n",
    "\t\tself.upper_line.setFrameShape(QFrame.HLine)\n",
    "\t\tself.upper_line.move(25, 85)\n",
    "\t\tself.upper_line.setFixedWidth(400)\n",
    "\n",
    "\t\tself.lower_line = QFrame(self)\n",
    "\t\tself.lower_line.setFrameShape(QFrame.HLine)\n",
    "\t\tself.lower_line.move(25, 485)\n",
    "\t\tself.lower_line.setFixedWidth(400)\n",
    "\n",
    "\t\tself.left_line = QFrame(self)\n",
    "\t\tself.left_line.setFrameShape(QFrame.VLine)\n",
    "\t\tself.left_line.move(-25, 100)\n",
    "\t\tself.left_line.setFixedHeight(400)\n",
    "\n",
    "\t\tself.right_line = QFrame(self)\n",
    "\t\tself.right_line.setFrameShape(QFrame.VLine)\n",
    "\t\tself.right_line.move(375, 100)\n",
    "\t\tself.right_line.setFixedHeight(400)\n",
    "\n",
    "\t\tself.show()\n",
    "\n",
    "\tdef clear(self):\n",
    "\t\tself.path.clear_path()\n",
    "\t\tself.update()\n",
    "\n",
    "\tdef mousePressEvent(self, event):\n",
    "\t\tx = event.x()\n",
    "\t\ty = event.y()\n",
    "\t\tself.path.clear_path()\n",
    "\n",
    "\t\tif 100 < y < 500:\n",
    "\t\t\tif 25 < x < 425:\n",
    "\t\t\t\tif self.hasDrawing == True:\n",
    "\t\t\t\t\tself.path.clear()\n",
    "\t\t\t\tself.mouseHeld = True\n",
    "\n",
    "\t\t\t\tposition = event.pos()\n",
    "\t\t\t\t\n",
    "\t\t\t\tself.path.add_point(x,y)\n",
    "\n",
    "\t\t\t\tself.results.setText(\"Position = \"+str(position))\n",
    "\t\t\t\treturn\n",
    "\t\t\telse:\n",
    "\t\t\t\tself.results.setText(\"Position out of range\")\n",
    "\t\t\t\tself.mouseHeld = False\n",
    "\t\t\t\treturn\n",
    "\t\tself.mouseHeld = False\n",
    "\t\tself.results.setText(\"Position out of range\")\n",
    "\t\treturn\n",
    "\n",
    "\tdef mouseMoveEvent(self, event):\n",
    "\t\tx = event.x()\n",
    "\t\ty = event.y()\n",
    "\t\tif 100 < y < 500:\n",
    "\t\t\tif 25 < x < 425:\n",
    "\t\t\t\tif self.mouseHeld == True:\n",
    "\t\t\t\t\tposition = event.pos()\n",
    "\t\t\t\t\tself.path.add_point(x,y)\n",
    "\t\t\t\t\tself.results.setText(\"Position = \"+str(position))\n",
    "\t\t\t\t\tself.update()\n",
    "\t\t\t\treturn\n",
    "\t\t\telse:\n",
    "\t\t\t\tself.results.setText(\"Position out of range\")\n",
    "\t\telse:\n",
    "\t\t\tself.results.setText(\"Position out of range\")\n",
    "\n",
    "\tdef paintEvent(self, event):\n",
    "\t\tpainter = QPainter()\n",
    "\t\tpainter.begin(self)\n",
    "\n",
    "\t\tlast_x = 0\n",
    "\t\tlast_y = 0\n",
    "\t\tfor x,y in list(zip(self.path.x_pos, self.path.y_pos)):\n",
    "\t\t\tif last_x == 0:\n",
    "\t\t\t\tlast_x = x\n",
    "\t\t\t\tlast_y = y\n",
    "\t\t\telse:\n",
    "\t\t\t\tpainter.drawLine(last_x, last_y, x, y)\n",
    "\t\t\t\tlast_x = x\n",
    "\t\t\t\tlast_y = y\n",
    "\t\t#painter.drawLine(self.last_x, self.last_y, self.cur_x, self.cur_y)\n",
    "\t\tpainter.end()\n",
    "\n",
    "\tdef mouseReleaseEvent(self, event):\n",
    "\t\tself.mouseHeld = False\n",
    "\t\tif len(self.path.x_pos)<4: return\n",
    "\t\tself.results.setText(\"Processing Data...\")\n",
    "\t\tself.worker.process_data(self.path)\n",
    "\n",
    "\tdef update_label(self, text):\n",
    "\t\tself.results.setText(text)\n",
    "\n",
    "\n",
    "def main():\n",
    "\n",
    "\tapp = QtGui.QApplication(sys.argv)\n",
    "\t_ = window()\n",
    "\tsys.exit(app.exec_())\n",
    "\n",
    "if __name__ == '__main__':\n",
    "\tmain()"
   ]
  },
  {
   "cell_type": "code",
   "execution_count": null,
   "metadata": {},
   "outputs": [],
   "source": []
  }
 ],
 "metadata": {
  "anaconda-cloud": {},
  "kernelspec": {
   "display_name": "Python 3",
   "language": "python",
   "name": "python3"
  },
  "language_info": {
   "codemirror_mode": {
    "name": "ipython",
    "version": 3
   },
   "file_extension": ".py",
   "mimetype": "text/x-python",
   "name": "python",
   "nbconvert_exporter": "python",
   "pygments_lexer": "ipython3",
   "version": "3.6.4"
  }
 },
 "nbformat": 4,
 "nbformat_minor": 1
}
